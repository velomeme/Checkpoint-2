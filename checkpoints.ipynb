{
 "cells": [
  {
   "cell_type": "code",
   "execution_count": 1,
   "id": "1b6290a7",
   "metadata": {},
   "outputs": [
    {
     "name": "stdout",
     "output_type": "stream",
     "text": [
      "Welcome to python world! Let's start coding\n"
     ]
    }
   ],
   "source": [
    "print(\"Welcome to python world! Let's start coding\")\n",
    "\n",
    "# This is checkpoint 1"
   ]
  },
  {
   "cell_type": "code",
   "execution_count": null,
   "id": "08ea9b8e",
   "metadata": {},
   "outputs": [],
   "source": [
    "print(\"please input your first name\")\n",
    "first_name = input()\n",
    "print(\"please input your last name\")\n",
    "last_name = input()\n",
    "print(\"Your name is \"+ last_name, first_name)\n",
    "\n",
    "#This is checkpoint 2, Pyhton basics Question 1"
   ]
  },
  {
   "cell_type": "code",
   "execution_count": 56,
   "id": "c888d71a",
   "metadata": {},
   "outputs": [
    {
     "name": "stdout",
     "output_type": "stream",
     "text": [
      "Enter a number  5\n",
      "The result is  615\n"
     ]
    }
   ],
   "source": [
    "n = int(input(\"Enter a number  \"))\n",
    "result = n+n*11+n*111\n",
    "print(\"The result is \" , result)\n",
    "# This is checkpoint 2, Pyhton basics Question 2"
   ]
  },
  {
   "cell_type": "code",
   "execution_count": 71,
   "id": "53b1d5a7",
   "metadata": {},
   "outputs": [
    {
     "name": "stdout",
     "output_type": "stream",
     "text": [
      "please input a number\n",
      "9\n",
      "9 is an odd number\n"
     ]
    }
   ],
   "source": [
    "print(\"please input a number\")\n",
    "num = int(input())\n",
    "if num % 2 == 0:\n",
    "    print(num, \"is an even number\")\n",
    "else:\n",
    "    print(num, \"is an odd number\")\n",
    "# This is checkpoint 2, Pyhton basics Question 3"
   ]
  },
  {
   "cell_type": "code",
   "execution_count": 90,
   "id": "3f3c5c9d",
   "metadata": {},
   "outputs": [
    {
     "name": "stdout",
     "output_type": "stream",
     "text": [
      "2002\n",
      "2009\n",
      "2016\n",
      "2023\n",
      "2037\n",
      "2044\n",
      "2051\n",
      "2058\n",
      "2072\n",
      "2079\n",
      "2086\n",
      "2093\n",
      "2107\n",
      "2114\n",
      "2121\n",
      "2128\n",
      "2142\n",
      "2149\n",
      "2156\n",
      "2163\n",
      "2177\n",
      "2184\n",
      "2191\n",
      "2198\n",
      "2212\n",
      "2219\n",
      "2226\n",
      "2233\n",
      "2247\n",
      "2254\n",
      "2261\n",
      "2268\n",
      "2282\n",
      "2289\n",
      "2296\n",
      "2303\n",
      "2317\n",
      "2324\n",
      "2331\n",
      "2338\n",
      "2352\n",
      "2359\n",
      "2366\n",
      "2373\n",
      "2387\n",
      "2394\n",
      "2401\n",
      "2408\n",
      "2422\n",
      "2429\n",
      "2436\n",
      "2443\n",
      "2457\n",
      "2464\n",
      "2471\n",
      "2478\n",
      "2492\n",
      "2499\n",
      "2506\n",
      "2513\n",
      "2527\n",
      "2534\n",
      "2541\n",
      "2548\n",
      "2562\n",
      "2569\n",
      "2576\n",
      "2583\n",
      "2597\n",
      "2604\n",
      "2611\n",
      "2618\n",
      "2632\n",
      "2639\n",
      "2646\n",
      "2653\n",
      "2667\n",
      "2674\n",
      "2681\n",
      "2688\n",
      "2702\n",
      "2709\n",
      "2716\n",
      "2723\n",
      "2737\n",
      "2744\n",
      "2751\n",
      "2758\n",
      "2772\n",
      "2779\n",
      "2786\n",
      "2793\n",
      "2807\n",
      "2814\n",
      "2821\n",
      "2828\n",
      "2842\n",
      "2849\n",
      "2856\n",
      "2863\n",
      "2877\n",
      "2884\n",
      "2891\n",
      "2898\n",
      "2912\n",
      "2919\n",
      "2926\n",
      "2933\n",
      "2947\n",
      "2954\n",
      "2961\n",
      "2968\n",
      "2982\n",
      "2989\n",
      "2996\n",
      "3003\n",
      "3017\n",
      "3024\n",
      "3031\n",
      "3038\n",
      "3052\n",
      "3059\n",
      "3066\n",
      "3073\n",
      "3087\n",
      "3094\n",
      "3101\n",
      "3108\n",
      "3122\n",
      "3129\n",
      "3136\n",
      "3143\n",
      "3157\n",
      "3164\n",
      "3171\n",
      "3178\n",
      "3192\n",
      "3199\n"
     ]
    }
   ],
   "source": [
    "for i in range(2000,3201):\n",
    "    if i%5>0 and i%7==0:\n",
    "        print(i)\n",
    "# This is checkpoint 2, Pyhton basics Question 4        "
   ]
  },
  {
   "cell_type": "code",
   "execution_count": 78,
   "id": "0563d983",
   "metadata": {},
   "outputs": [
    {
     "name": "stdout",
     "output_type": "stream",
     "text": [
      "Enter a number: 8\n",
      "Factorial of  8  is :  40320\n"
     ]
    }
   ],
   "source": [
    "n = input(\"Enter a number: \")\n",
    "factorial = 1\n",
    "if int(n) >= 1:\n",
    "    for i in range (1,int(n)+1):\n",
    "        factorial = factorial * i\n",
    "print(\"Factorial of \",n , \" is : \",factorial)\n",
    "\n",
    "# This is checkpoint 2, Pyhton basics Question 5"
   ]
  },
  {
   "cell_type": "code",
   "execution_count": null,
   "id": "b06cb454",
   "metadata": {},
   "outputs": [],
   "source": [
    "x = input()\n",
    "out = x[::2]\n",
    "print(out)\n",
    "\n",
    "# This is checkpoint 2, Pyhton basics Question 6"
   ]
  },
  {
   "cell_type": "code",
   "execution_count": null,
   "id": "1254a081",
   "metadata": {},
   "outputs": [],
   "source": [
    "price = int(input(\"Enter a price   \"))\n",
    "if price >=500:\n",
    "    print(\"You have a 50% discount\")\n",
    "    print(\"please pay \", price - price*0.5)\n",
    "elif price >=200 and price <500:\n",
    "    print(\"You have a 30% discount\")\n",
    "    print(\"please pay \", price - price*0.3)\n",
    "else:\n",
    "    print(\"You have a 10% discount\")\n",
    "    print(\"please pay \", price - price*0.1)\n",
    "\n",
    "# This is checkpoint 2, Pyhton basics Question 7"
   ]
  }
 ],
 "metadata": {
  "kernelspec": {
   "display_name": "Python 3 (ipykernel)",
   "language": "python",
   "name": "python3"
  },
  "language_info": {
   "codemirror_mode": {
    "name": "ipython",
    "version": 3
   },
   "file_extension": ".py",
   "mimetype": "text/x-python",
   "name": "python",
   "nbconvert_exporter": "python",
   "pygments_lexer": "ipython3",
   "version": "3.9.7"
  }
 },
 "nbformat": 4,
 "nbformat_minor": 5
}
